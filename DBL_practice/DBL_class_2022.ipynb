{
 "cells": [
  {
   "cell_type": "markdown",
   "metadata": {},
   "source": [
    "# Nearest Neighbour classification and regression\n",
    "### Exercises #1\n",
    "### CCE2502"
   ]
  },
  {
   "cell_type": "code",
   "execution_count": 97,
   "metadata": {},
   "outputs": [],
   "source": [
    "import numpy as np\n",
    "import matplotlib.pyplot as plt\n",
    "from  matplotlib.colors import ListedColormap\n",
    "import csv\n",
    "%matplotlib inline"
   ]
  },
  {
   "cell_type": "markdown",
   "metadata": {},
   "source": [
    "## Exercise I\n",
    "1. Load data\n",
    "3. Code 1-NN algorithm\n",
    "4. Test algorithm\n",
    "5. Create mesh to visualise decision boundary\n",
    "6. Color code points as classified by algorithm"
   ]
  },
  {
   "cell_type": "code",
   "execution_count": 98,
   "metadata": {},
   "outputs": [],
   "source": [
    "with open('Table5-2_atheleteA.csv', newline='') as f:\n",
    "    reader = csv.reader(f)\n",
    "    data = list(reader)"
   ]
  },
  {
   "cell_type": "code",
   "execution_count": 99,
   "metadata": {},
   "outputs": [
    {
     "data": {
      "text/plain": [
       "[['ID\\t  ', '  Speed  ', '  Agility  ', '  Draft'],\n",
       " ['1  ', '  2.50  ', '  6.00  ', '  no'],\n",
       " ['2  ', '  3.75  ', '  8.00  ', '  no'],\n",
       " ['3  ', '  2.25  ', '  5.50  ', '  no'],\n",
       " ['4  ', '  3.25  ', '  8.25  ', '  no'],\n",
       " ['5  ', '  2.75  ', '  7.50  ', '  no'],\n",
       " ['6  ', '  4.50  ', '  5.00  ', '  no'],\n",
       " ['7  ', '  3.50  ', '  5.25  ', '  no'],\n",
       " ['8  ', '  3.00  ', '  3.25  ', '  no'],\n",
       " ['9  ', '  4.00  ', '  4.00  ', '  no'],\n",
       " ['10  ', '  4.25  ', '  3.75  ', '  no'],\n",
       " ['11  ', '  2.00  ', '  2.00  ', '  no'],\n",
       " ['12  ', '  5.00  ', '  2.50  ', '  no'],\n",
       " ['13  ', '  8.25  ', '  8.50  ', '  no'],\n",
       " ['14  ', '  5.75  ', '  8.75  ', '  yes'],\n",
       " ['15  ', '  4.75  ', '  6.25  ', '  yes'],\n",
       " ['16  ', '  5.50  ', '  6.75  ', '  yes'],\n",
       " ['17  ', '  5.25  ', '  9.50  ', '  yes'],\n",
       " ['18  ', '  7.00  ', '  4.25  ', '  yes'],\n",
       " ['19  ', '  7.50  ', '  8.00  ', '  yes'],\n",
       " ['20  ', '  7.25  ', '  5.75  ', '  yes']]"
      ]
     },
     "execution_count": 99,
     "metadata": {},
     "output_type": "execute_result"
    }
   ],
   "source": [
    "data"
   ]
  },
  {
   "cell_type": "code",
   "execution_count": 100,
   "metadata": {},
   "outputs": [
    {
     "name": "stdout",
     "output_type": "stream",
     "text": [
      "Number of examples =  20\n"
     ]
    }
   ],
   "source": [
    "# Explore data and convert to numpy arrays (X, y)\n",
    "m = len(data)-1\n",
    "print('Number of examples = ', m)\n",
    "D = np.zeros((m,3),dtype=float)\n",
    "str2float={'no':0.0, 'yes':1.0}\n",
    "for i, item in enumerate(data[1:]):\n",
    "    D[i,0:2] = (float(item[1].strip()), float(item[2].strip()))\n",
    "    D[i,2] = str2float[item[3].strip()] "
   ]
  },
  {
   "cell_type": "code",
   "execution_count": 101,
   "metadata": {},
   "outputs": [
    {
     "data": {
      "text/plain": [
       "array([[2.5 , 6.  , 0.  ],\n",
       "       [3.75, 8.  , 0.  ],\n",
       "       [2.25, 5.5 , 0.  ],\n",
       "       [3.25, 8.25, 0.  ],\n",
       "       [2.75, 7.5 , 0.  ],\n",
       "       [4.5 , 5.  , 0.  ],\n",
       "       [3.5 , 5.25, 0.  ],\n",
       "       [3.  , 3.25, 0.  ],\n",
       "       [4.  , 4.  , 0.  ],\n",
       "       [4.25, 3.75, 0.  ],\n",
       "       [2.  , 2.  , 0.  ],\n",
       "       [5.  , 2.5 , 0.  ],\n",
       "       [8.25, 8.5 , 0.  ],\n",
       "       [5.75, 8.75, 1.  ],\n",
       "       [4.75, 6.25, 1.  ],\n",
       "       [5.5 , 6.75, 1.  ],\n",
       "       [5.25, 9.5 , 1.  ],\n",
       "       [7.  , 4.25, 1.  ],\n",
       "       [7.5 , 8.  , 1.  ],\n",
       "       [7.25, 5.75, 1.  ]])"
      ]
     },
     "execution_count": 101,
     "metadata": {},
     "output_type": "execute_result"
    }
   ],
   "source": [
    "D"
   ]
  },
  {
   "cell_type": "code",
   "execution_count": 102,
   "metadata": {},
   "outputs": [
    {
     "data": {
      "text/plain": [
       "array([[2.5 , 6.  , 0.  ],\n",
       "       [3.75, 8.  , 0.  ],\n",
       "       [2.25, 5.5 , 0.  ],\n",
       "       [3.25, 8.25, 0.  ],\n",
       "       [2.75, 7.5 , 0.  ],\n",
       "       [4.5 , 5.  , 0.  ],\n",
       "       [3.5 , 5.25, 0.  ],\n",
       "       [3.  , 3.25, 0.  ],\n",
       "       [4.  , 4.  , 0.  ],\n",
       "       [4.25, 3.75, 0.  ],\n",
       "       [2.  , 2.  , 0.  ],\n",
       "       [5.  , 2.5 , 0.  ],\n",
       "       [8.25, 8.5 , 0.  ],\n",
       "       [5.75, 8.75, 1.  ],\n",
       "       [4.75, 6.25, 1.  ],\n",
       "       [5.5 , 6.75, 1.  ],\n",
       "       [5.25, 9.5 , 1.  ],\n",
       "       [7.  , 4.25, 1.  ],\n",
       "       [7.5 , 8.  , 1.  ],\n",
       "       [7.25, 5.75, 1.  ]])"
      ]
     },
     "execution_count": 102,
     "metadata": {},
     "output_type": "execute_result"
    }
   ],
   "source": [
    "# Alternatively you can do it the numpy way\n",
    "D = np.array(data[1:])\n",
    "D = np.delete(D,0,1)\n",
    "D[:,2] = np.where(D[:,2] == '  no', 0, D[:,2])\n",
    "D[:,2] = np.where(D[:,2] == '  yes', 1, D[:,2])\n",
    "D = D.astype(float)\n",
    "D"
   ]
  },
  {
   "cell_type": "code",
   "execution_count": 103,
   "metadata": {},
   "outputs": [
    {
     "data": {
      "text/plain": [
       "array([[2.5 , 6.  , 0.  ],\n",
       "       [3.75, 8.  , 0.  ],\n",
       "       [2.25, 5.5 , 0.  ],\n",
       "       [3.25, 8.25, 0.  ]])"
      ]
     },
     "execution_count": 103,
     "metadata": {},
     "output_type": "execute_result"
    }
   ],
   "source": [
    "# Display first few rows in dataset\n",
    "D[0:4]"
   ]
  },
  {
   "cell_type": "code",
   "execution_count": 104,
   "metadata": {},
   "outputs": [
    {
     "name": "stdout",
     "output_type": "stream",
     "text": [
      "\n",
      "    X_train : feature array in n-dimensions, m rows (examples)\n",
      "    y_train : output labels in any dimension, typically 1-dimension,  of size m\n",
      "    x_new : query example in n-dimensions (one example only)\n",
      "    Returns the predicted class and minimum distance\n",
      "    \n"
     ]
    }
   ],
   "source": [
    "# our 1-NN model\n",
    "def nearest_neighbour_euclidian(X_train, y_train, x_new):\n",
    "    \"\"\"\n",
    "    X_train : feature array in n-dimensions, m rows (examples)\n",
    "    y_train : output labels in any dimension, typically 1-dimension,  of size m\n",
    "    x_new : query example in n-dimensions (one example only)\n",
    "    Returns the predicted class and minimum distance\n",
    "    \"\"\"\n",
    "    dist = ((X_train-x_new)**2).sum(axis=1)\n",
    "    idx = np.where(dist == dist.min())\n",
    "    return y_train[idx[0][0]], dist.min()\n",
    "\n",
    "print(nearest_neighbour_euclidian.__doc__)"
   ]
  },
  {
   "cell_type": "code",
   "execution_count": 105,
   "metadata": {},
   "outputs": [],
   "source": [
    "# testing the algorithm\n",
    "# pass on the same dataset example and test for label and distance == 0\n",
    "#\n",
    "features = D[:,0:2]\n",
    "labels = D[:,2]\n",
    "predicted = np.empty((labels.shape[0],2))\n",
    "for row in range(D.shape[0]):\n",
    "    query = D[row,0:2]\n",
    "    #predicted = nearest_neighbour_euclidian(D[:,0:2],D[:,2], D[row,0:2])\n",
    "    predicted[row] = nearest_neighbour_euclidian(features, labels, query)\n",
    "#\n",
    "assert np.all(predicted[:,0] == labels), \"output labels not consistent with dataset\"\n",
    "assert np.all(predicted[:,1] == 0.0), \"distance metric not all zero\""
   ]
  },
  {
   "cell_type": "code",
   "execution_count": 106,
   "metadata": {},
   "outputs": [
    {
     "data": {
      "text/plain": [
       "Text(0, 0.5, 'Agility')"
      ]
     },
     "execution_count": 106,
     "metadata": {},
     "output_type": "execute_result"
    },
    {
     "data": {
      "image/png": "[encoded data removed]",
      "text/plain": [
       "<Figure size 640x480 with 1 Axes>"
      ]
     },
     "metadata": {},
     "output_type": "display_data"
    }
   ],
   "source": [
    "cmap_DB = ListedColormap(['#2ca02c', '#ff7f0e'])  # green, orange\n",
    "cmap_DS = ListedColormap(['#17becf', '#d62728'])   # cyan, red\n",
    "\n",
    "plt.scatter(D[:, 0], D[:, 1], c=D[:,2], cmap=cmap_DS,\n",
    "                edgecolor='b', s=40)\n",
    "plt.xlabel('Speed')\n",
    "plt.ylabel('Agility')"
   ]
  },
  {
   "cell_type": "code",
   "execution_count": 107,
   "metadata": {},
   "outputs": [],
   "source": [
    "# we will create a mesh and fill the Z values with the 1-NN predictions\n",
    "def display_decision_boundary(k=1):\n",
    "    r = 0.05\n",
    "    X = D[:,0:2]\n",
    "    x_min, x_max = X[:, 0].min() - 1, X[:, 0].max() + 1\n",
    "    y_min, y_max = X[:, 1].min() - 1, X[:, 1].max() + 1\n",
    "    xx, yy = np.meshgrid(np.arange(x_min, x_max, r),\n",
    "                             np.arange(y_min, y_max, r))\n",
    "    Z = np.empty((xx.shape[0],xx.shape[1]))\n",
    "    for i in range(xx.shape[0]):\n",
    "        for j in range(xx.shape[1]):\n",
    "            #Z[i,j] = nearest_neighbour_euclidian(X, D[:,2],[xx[i,j],yy[i,j]])[0]\n",
    "            Z[i,j] = k_nearest_neighbour_euclidian(k, X, D[:,2],[xx[i,j],yy[i,j]])\n",
    "\n",
    "    cmap_DB = ListedColormap(['#2ca02c', '#ff7f0e'])  # green, orange\n",
    "    cmap_DS = ListedColormap(['#17becf', '#d62728'])   # cyan, red\n",
    "\n",
    "    # Plot a pcolormesh plot (decision boundary)\n",
    "    plt.figure(figsize=(5,5))\n",
    "    plt.pcolormesh(xx, yy, Z, cmap=cmap_DB)\n",
    "\n",
    "    # Plot the dataset\n",
    "    plt.scatter(X[:, 0], X[:, 1], c=D[:,2], cmap=cmap_DS, edgecolor='b', s=200)\n",
    "    plt.xlim(xx.min(), xx.max())\n",
    "    plt.ylim(yy.min(), yy.max())\n"
   ]
  },
  {
   "cell_type": "code",
   "execution_count": 108,
   "metadata": {},
   "outputs": [
    {
     "name": "stdout",
     "output_type": "stream",
     "text": [
      "\n",
      "    X_train : feature array in n-dimensions, m rows (examples)\n",
      "    y_train : output labels in any dimension, typically 1-dimension,  of size m\n",
      "    x_new : query example in n-dimensions (one example only)\n",
      "    Returns the predicted class and minimum distance\n",
      "    \n"
     ]
    }
   ],
   "source": [
    "# our 1-NN model\n",
    "def k_nearest_neighbour_euclidian(k, X_train, y_train, x_new):\n",
    "    \"\"\"\n",
    "    k : hyper-parameter in k-NN model\n",
    "    X_train : feature array in n-dimensions\n",
    "    y_train : output labels in any dimension, typically 1-dimension\n",
    "    x_new : query example in n-dimensions\n",
    "    Returns the predicted class \n",
    "    \"\"\"\n",
    "    m = y_train.shape[0]\n",
    "    dist = ((X_train-x_new)**2).sum(axis=1)\n",
    "    DD = np.concatenate((X_train, y_train.reshape((m,1)), \n",
    "                         dist.reshape((m,1))), axis=1)\n",
    "    DDs = DD[np.argsort(DD[:,3])]\n",
    "    r = DDs[0:k,2].sum()\n",
    "    c = 1 if r > k/2. else 0\n",
    "    #return DDs[0:k,:], r, c \n",
    "    return c \n",
    "\n",
    "print(nearest_neighbour_euclidian.__doc__)"
   ]
  },
  {
   "cell_type": "code",
   "execution_count": 109,
   "metadata": {},
   "outputs": [
    {
     "data": {
      "text/plain": [
       "1"
      ]
     },
     "execution_count": 109,
     "metadata": {},
     "output_type": "execute_result"
    }
   ],
   "source": [
    "k_nearest_neighbour_euclidian(3, D[:,0:2], D[:,2],[5.5, 5.4])"
   ]
  },
  {
   "cell_type": "code",
   "execution_count": 110,
   "metadata": {},
   "outputs": [
    {
     "data": {
      "image/png": "[encoded data removed]",
      "text/plain": [
       "<Figure size 500x500 with 1 Axes>"
      ]
     },
     "metadata": {},
     "output_type": "display_data"
    },
    {
     "data": {
      "image/png": "[encoded data removed]",
      "text/plain": [
       "<Figure size 500x500 with 1 Axes>"
      ]
     },
     "metadata": {},
     "output_type": "display_data"
    },
    {
     "data": {
      "image/png": "[encoded data removed]",
      "text/plain": [
       "<Figure size 500x500 with 1 Axes>"
      ]
     },
     "metadata": {},
     "output_type": "display_data"
    },
    {
     "data": {
      "image/png": "[encoded data removed]",
      "text/plain": [
       "<Figure size 500x500 with 1 Axes>"
      ]
     },
     "metadata": {},
     "output_type": "display_data"
    }
   ],
   "source": [
    "display_decision_boundary(k=3)\n",
    "display_decision_boundary(k=5)\n",
    "display_decision_boundary(k=7)\n",
    "display_decision_boundary(k=13)"
   ]
  },
  {
   "cell_type": "markdown",
   "metadata": {},
   "source": [
    "## Exercise II\n",
    "1. Computing accuracy\n",
    "2. Jack-knifing, leave one out (k-fold)\n",
    "3. Shuffle and Split data in train and test\n",
    "4. Compute variance"
   ]
  },
  {
   "cell_type": "code",
   "execution_count": 111,
   "metadata": {},
   "outputs": [],
   "source": [
    "# write a function that calls k-NN model multiple times\n",
    "def predict_kNN(k, X_train, y_train, X_query):\n",
    "    \"\"\"\n",
    "    k : HP of k-NN\n",
    "    X_query is a mxn dimensional real array\n",
    "    m: number of query examples\n",
    "    n: number of features\n",
    "    return : predictions for each example in X_query, m-dimensional\n",
    "    \"\"\"\n",
    "    m = X_query.shape[0]\n",
    "    y = np.zeros(m)\n",
    "    for i in range(m):\n",
    "        y[i] = k_nearest_neighbour_euclidian(k, X_train, y_train, \n",
    "                                             X_query[i])\n",
    "    return y"
   ]
  },
  {
   "cell_type": "code",
   "execution_count": 112,
   "metadata": {},
   "outputs": [
    {
     "data": {
      "text/plain": [
       "array([1., 0., 1.])"
      ]
     },
     "execution_count": 112,
     "metadata": {},
     "output_type": "execute_result"
    }
   ],
   "source": [
    "predict_kNN(3, D[:,0:2], D[:,2],np.array([[5.5, 5.4], \n",
    "                                          [2.5, 7.4],\n",
    "                                          [6.5, 6.0]]))"
   ]
  },
  {
   "cell_type": "code",
   "execution_count": 113,
   "metadata": {},
   "outputs": [
    {
     "data": {
      "text/plain": [
       "1.0"
      ]
     },
     "execution_count": 113,
     "metadata": {},
     "output_type": "execute_result"
    }
   ],
   "source": [
    "y_pred = predict_kNN(1, D[:,0:2], D[:,2], D[:,0:2])\n",
    "(y_pred == D[:,2]).astype(float).sum()/D.shape[0]"
   ]
  },
  {
   "cell_type": "code",
   "execution_count": 114,
   "metadata": {},
   "outputs": [],
   "source": [
    "np.random.shuffle(D)\n",
    "s = 16\n",
    "D_train = np.copy(D[0:s,:])\n",
    "D_test = np.copy(D[s:,:])"
   ]
  },
  {
   "cell_type": "code",
   "execution_count": 115,
   "metadata": {},
   "outputs": [
    {
     "data": {
      "text/plain": [
       "1.0"
      ]
     },
     "execution_count": 115,
     "metadata": {},
     "output_type": "execute_result"
    }
   ],
   "source": [
    "y_pred = predict_kNN(3, D_train[:,0:2], D_train[:,2], D_test[:,0:2])\n",
    "(y_pred == D_test[:,2]).astype(float).sum()/D_test.shape[0]"
   ]
  },
  {
   "cell_type": "code",
   "execution_count": 116,
   "metadata": {},
   "outputs": [
    {
     "data": {
      "text/plain": [
       "array([1., 1., 0., 1., 1., 1., 1., 1., 1., 1., 1., 1., 1., 1., 0., 1., 1.,\n",
       "       1., 1., 1.])"
      ]
     },
     "execution_count": 116,
     "metadata": {},
     "output_type": "execute_result"
    }
   ],
   "source": [
    "# jack knifing (leave one out)\n",
    "m = D.shape[0]\n",
    "Y_pred = -np.ones(m)\n",
    "for i in range(20):\n",
    "    t = list(range(m))\n",
    "    t.remove(i)\n",
    "    X_train, y_train = D[t, 0:2], D[t, 2]\n",
    "    X_test, y_test = D[i, 0:2], D[i, 2]\n",
    "    y_pred = k_nearest_neighbour_euclidian(1, X_train, y_train, X_test)\n",
    "    Y_pred[i] = y_pred == y_test\n",
    "\n",
    "Y_pred"
   ]
  },
  {
   "cell_type": "code",
   "execution_count": 117,
   "metadata": {},
   "outputs": [
    {
     "data": {
      "text/plain": [
       "array([1., 1., 0., 1., 1., 1., 1., 1., 1., 1., 1., 1., 1., 1., 0., 1., 1.,\n",
       "       1., 1., 1.])"
      ]
     },
     "execution_count": 117,
     "metadata": {},
     "output_type": "execute_result"
    }
   ],
   "source": [
    "Y_pred"
   ]
  },
  {
   "cell_type": "code",
   "execution_count": 118,
   "metadata": {},
   "outputs": [
    {
     "data": {
      "text/plain": [
       "((19, 2), (19,), (2,), ())"
      ]
     },
     "execution_count": 118,
     "metadata": {},
     "output_type": "execute_result"
    }
   ],
   "source": [
    "X_train.shape, y_train.shape, X_test.shape, y_test.shape"
   ]
  },
  {
   "cell_type": "markdown",
   "metadata": {},
   "source": [
    "## Exercise III\n",
    "1. Predicting continuous output variable\n",
    "2. load data\n",
    "3. normalise\n",
    "4. predict using k=3\n",
    "5. compute error (mse)"
   ]
  },
  {
   "cell_type": "code",
   "execution_count": 119,
   "metadata": {},
   "outputs": [],
   "source": [
    "with open('Table5-8_whiskey.csv', newline='') as f:\n",
    "    reader = csv.reader(f)\n",
    "    data = list(reader)"
   ]
  },
  {
   "cell_type": "code",
   "execution_count": 120,
   "metadata": {},
   "outputs": [
    {
     "name": "stdout",
     "output_type": "stream",
     "text": [
      "Number of examples =  20\n"
     ]
    }
   ],
   "source": [
    "# Explore data and convert to numpy arrays (X, y)\n",
    "m = len(data)-1\n",
    "print('Number of examples = ', m)\n",
    "D = np.array(data[1:],dtype=float)\n",
    "D = D[:,1:]"
   ]
  },
  {
   "cell_type": "code",
   "execution_count": 121,
   "metadata": {},
   "outputs": [],
   "source": [
    "col = {'age':0, 'rating':1, 'price':2}"
   ]
  },
  {
   "cell_type": "code",
   "execution_count": 122,
   "metadata": {},
   "outputs": [
    {
     "data": {
      "text/plain": [
       "array([ 30.,  40.,  55., 550.,  35.,  45.,  70.,  85.,  78.,  75., 500.,\n",
       "       200.,  65., 120.,  12., 250.,  18., 450.,  10.,  30.])"
      ]
     },
     "execution_count": 122,
     "metadata": {},
     "output_type": "execute_result"
    }
   ],
   "source": [
    "D[:, col['price']]"
   ]
  },
  {
   "cell_type": "code",
   "execution_count": 123,
   "metadata": {},
   "outputs": [],
   "source": [
    "X_train, y_train = D[:, 0:2], D[:, 2]\n",
    "X_test, y_test = D[0, 0:2], D[0, 2]"
   ]
  },
  {
   "cell_type": "code",
   "execution_count": 124,
   "metadata": {},
   "outputs": [],
   "source": [
    "def k_nearest_neighbour_regression(k, X_train, y_train, x_new):\n",
    "    \"\"\"\n",
    "    k : hyper-parameter in k-NN model\n",
    "    X_train : feature array in n-dimensions\n",
    "    y_train : output labels in any dimension, typically 1-dimension\n",
    "    x_new : query example in n-dimensions\n",
    "    Returns the predicted class \n",
    "    \"\"\"\n",
    "    m = y_train.shape[0]\n",
    "    dist = ((X_train-x_new)**2).sum(axis=1)\n",
    "    DD = np.concatenate((X_train, y_train.reshape((m,1)), \n",
    "                         dist.reshape((m,1))), axis=1)\n",
    "    DDs = DD[np.argsort(DD[:,3])]\n",
    "    r = DDs[0:k,2].mean()\n",
    "    return r "
   ]
  },
  {
   "cell_type": "code",
   "execution_count": 125,
   "metadata": {},
   "outputs": [
    {
     "data": {
      "text/plain": [
       "23.333333333333332"
      ]
     },
     "execution_count": 125,
     "metadata": {},
     "output_type": "execute_result"
    }
   ],
   "source": [
    "k_nearest_neighbour_regression(3, X_train, y_train, X_test)"
   ]
  },
  {
   "cell_type": "code",
   "execution_count": 126,
   "metadata": {},
   "outputs": [],
   "source": [
    "def get_mean_square_error(y_predicted, y_actual):\n",
    "    return ((y_predicted-y_actual)**2.0).mean()"
   ]
  },
  {
   "cell_type": "code",
   "execution_count": 127,
   "metadata": {},
   "outputs": [
    {
     "name": "stdout",
     "output_type": "stream",
     "text": [
      "1 : 36637.15\n",
      "2 : 17454.1125\n",
      "3 : 16372.122222222224\n",
      "4 : 17964.015625\n",
      "5 : 19631.798\n",
      "6 : 22836.280555555557\n",
      "7 : 23997.680612244898\n",
      "8 : 24107.9640625\n",
      "9 : 24613.625308641975\n",
      "10 : 25652.768\n"
     ]
    }
   ],
   "source": [
    "for k in [1,2,3,4,5,6,7,8,9,10]:\n",
    "    # jack knifing (leave one out)\n",
    "    m = D.shape[0]\n",
    "    Y_pred = -np.ones(m, dtype=float)\n",
    "    for i in range(20):\n",
    "        t = list(range(m))\n",
    "        t.remove(i)\n",
    "        X_train, y_train = D[t, 0:2], D[t, 2]\n",
    "        X_test, y_test = D[i, 0:2], D[i, 2]\n",
    "        y_pred = k_nearest_neighbour_regression(k, X_train, \n",
    "                                                y_train, \n",
    "                                                X_test)\n",
    "        Y_pred[i] = (y_pred - y_test)**2.0\n",
    "\n",
    "    print(k, ':', Y_pred.mean())"
   ]
  }
 ],
 "metadata": {
  "kernelspec": {
   "display_name": "Python 3 (ipykernel)",
   "language": "python",
   "name": "python3"
  },
  "language_info": {
   "codemirror_mode": {
    "name": "ipython",
    "version": 3
   },
   "file_extension": ".py",
   "mimetype": "text/x-python",
   "name": "python",
   "nbconvert_exporter": "python",
   "pygments_lexer": "ipython3",
   "version": "3.10.13"
  }
 },
 "nbformat": 4,
 "nbformat_minor": 4
}
